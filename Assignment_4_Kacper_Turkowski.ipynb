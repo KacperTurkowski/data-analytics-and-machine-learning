{
 "cells": [
  {
   "cell_type": "markdown",
   "metadata": {},
   "source": [
    "### Today we are going to perform the simple classification of the amazon reviews' sentiment.\n",
    "\n",
    "### Please, download the dataset amazon_baby.csv."
   ]
  },
  {
   "cell_type": "code",
   "execution_count": 1,
   "metadata": {},
   "outputs": [
    {
     "data": {
      "text/plain": "                                                name  \\\n0                           Planetwise Flannel Wipes   \n1                              Planetwise Wipe Pouch   \n2                Annas Dream Full Quilt with 2 Shams   \n3  Stop Pacifier Sucking without tears with Thumb...   \n4  Stop Pacifier Sucking without tears with Thumb...   \n\n                                              review  rating  \n0  These flannel wipes are OK, but in my opinion ...       3  \n1  it came early and was not disappointed. i love...       5  \n2  Very soft and comfortable and warmer than it l...       5  \n3  This is a product well worth the purchase.  I ...       5  \n4  All of my kids have cried non-stop when I trie...       5  ",
      "text/html": "<div>\n<style scoped>\n    .dataframe tbody tr th:only-of-type {\n        vertical-align: middle;\n    }\n\n    .dataframe tbody tr th {\n        vertical-align: top;\n    }\n\n    .dataframe thead th {\n        text-align: right;\n    }\n</style>\n<table border=\"1\" class=\"dataframe\">\n  <thead>\n    <tr style=\"text-align: right;\">\n      <th></th>\n      <th>name</th>\n      <th>review</th>\n      <th>rating</th>\n    </tr>\n  </thead>\n  <tbody>\n    <tr>\n      <th>0</th>\n      <td>Planetwise Flannel Wipes</td>\n      <td>These flannel wipes are OK, but in my opinion ...</td>\n      <td>3</td>\n    </tr>\n    <tr>\n      <th>1</th>\n      <td>Planetwise Wipe Pouch</td>\n      <td>it came early and was not disappointed. i love...</td>\n      <td>5</td>\n    </tr>\n    <tr>\n      <th>2</th>\n      <td>Annas Dream Full Quilt with 2 Shams</td>\n      <td>Very soft and comfortable and warmer than it l...</td>\n      <td>5</td>\n    </tr>\n    <tr>\n      <th>3</th>\n      <td>Stop Pacifier Sucking without tears with Thumb...</td>\n      <td>This is a product well worth the purchase.  I ...</td>\n      <td>5</td>\n    </tr>\n    <tr>\n      <th>4</th>\n      <td>Stop Pacifier Sucking without tears with Thumb...</td>\n      <td>All of my kids have cried non-stop when I trie...</td>\n      <td>5</td>\n    </tr>\n  </tbody>\n</table>\n</div>"
     },
     "execution_count": 1,
     "metadata": {},
     "output_type": "execute_result"
    }
   ],
   "source": [
    "import pandas as pd\n",
    "import numpy as np\n",
    "from sklearn.linear_model import LogisticRegression\n",
    "from sklearn.model_selection import train_test_split\n",
    "\n",
    "import warnings\n",
    "warnings.filterwarnings('ignore')# Too many iteration warning\n",
    "\n",
    "def remove_punctuation(text):\n",
    "    import string\n",
    "    translator = str.maketrans('', '', string.punctuation)\n",
    "    return text.translate(translator)\n",
    "\n",
    "baby_df = pd.read_csv('amazon_baby.csv')\n",
    "baby_df.head()\n",
    "# First five records in DataFrame"
   ]
  },
  {
   "cell_type": "markdown",
   "metadata": {},
   "source": [
    "## Exercise 1 (data preparation)\n",
    "a) Remove punctuation from reviews using the given function.   \n",
    "b) Replace all missing (nan) revies with empty \"\" string.  \n",
    "c) Drop all the entries with rating = 3, as they have neutral sentiment.   \n",
    "d) Set all positive ($\\geq$4) ratings to 1 and negative($\\leq$2) to -1."
   ]
  },
  {
   "cell_type": "code",
   "execution_count": 2,
   "metadata": {},
   "outputs": [
    {
     "name": "stdout",
     "output_type": "stream",
     "text": [
      "True\n",
      "True\n"
     ]
    }
   ],
   "source": [
    "#a)\n",
    "baby_df.review = baby_df.review.apply(lambda x: remove_punctuation((str(x))))\n",
    "#short test:\n",
    "print(baby_df[\"review\"][4] == 'All of my kids have cried nonstop when I tried to ween them off their pacifier until I found Thumbuddy To Loves Binky Fairy Puppet  It is an easy way to work with your kids to allow them to understand where their pacifier is going and help them part from itThis is a must buy book and a great gift for expecting parents  You will save them soo many headachesThanks for this book  You all rock')\n",
    "print(remove_punctuation(baby_df[\"review\"][4]) == 'All of my kids have cried nonstop when I tried to ween them off their pacifier until I found Thumbuddy To Loves Binky Fairy Puppet  It is an easy way to work with your kids to allow them to understand where their pacifier is going and help them part from itThis is a must buy book and a great gift for expecting parents  You will save them soo many headachesThanks for this book  You all rock')"
   ]
  },
  {
   "cell_type": "code",
   "execution_count": 3,
   "metadata": {},
   "outputs": [
    {
     "name": "stdout",
     "output_type": "stream",
     "text": [
      "True\n"
     ]
    }
   ],
   "source": [
    "#b)\n",
    "baby_df = baby_df.fillna(\"\")\n",
    "#short test:\n",
    "print(baby_df[\"review\"][38] == baby_df[\"review\"][38])"
   ]
  },
  {
   "cell_type": "code",
   "execution_count": 20,
   "metadata": {},
   "outputs": [
    {
     "data": {
      "text/plain": "0"
     },
     "execution_count": 20,
     "metadata": {},
     "output_type": "execute_result"
    }
   ],
   "source": [
    "def estimation(rate):\n",
    "    if rate == 3: return 0\n",
    "    elif rate > 3 : return 1\n",
    "    else : return -1\n",
    "#c)\n",
    "baby_df.rating = baby_df.rating.apply(lambda x: estimation(x))\n",
    "#short test:\n",
    "sum(baby_df[\"rating\"] == 3) # When function works properly value of rate never equals to 3"
   ]
  },
  {
   "cell_type": "code",
   "execution_count": 21,
   "metadata": {},
   "outputs": [
    {
     "data": {
      "text/plain": "0"
     },
     "execution_count": 21,
     "metadata": {},
     "output_type": "execute_result"
    }
   ],
   "source": [
    "#d)\n",
    "# function in c) solves d\n",
    "#short test:\n",
    "sum(baby_df[\"rating\"]**2 != 1)\n",
    "# When function works properly value of rate is always -1,0 or 1"
   ]
  },
  {
   "cell_type": "markdown",
   "metadata": {},
   "source": [
    "## CountVectorizer\n",
    "In order to analyze strings, we need to assign them numerical values. We will use one of the simplest string representation, which transforms strings into the $n$ dimensional vectors. The number of dimensions will be the size of our dictionary, and then the values of the vector will represent the number of appereances of the given word in the sentence."
   ]
  },
  {
   "cell_type": "code",
   "execution_count": 6,
   "metadata": {},
   "outputs": [
    {
     "name": "stdout",
     "output_type": "stream",
     "text": [
      "['adore', 'and', 'apples', 'bananas', 'dislike', 'hate', 'like', 'oranges', 'they', 'we']\n",
      "[[0 0 1 0 0 0 1 0 0 1]\n",
      " [0 0 0 0 0 1 0 1 0 1]\n",
      " [1 0 0 1 0 0 0 0 0 0]\n",
      " [0 1 1 0 0 0 2 1 0 1]\n",
      " [0 0 0 1 1 0 0 0 1 0]]\n"
     ]
    }
   ],
   "source": [
    "from sklearn.feature_extraction.text import CountVectorizer\n",
    "\n",
    "vectorizer = CountVectorizer()\n",
    "reviews_train_example = [\"We like apples\",\n",
    "                   \"We hate oranges\",\n",
    "                   \"I adore bananas\",\n",
    "                   \"We like like apples and oranges\",\n",
    "                   \"They dislike bananas\"]\n",
    "\n",
    "X_train_example = vectorizer.fit_transform(reviews_train_example)\n",
    "\n",
    "print(vectorizer.get_feature_names())\n",
    "print(X_train_example.todense())"
   ]
  },
  {
   "cell_type": "code",
   "execution_count": 7,
   "metadata": {},
   "outputs": [
    {
     "name": "stdout",
     "output_type": "stream",
     "text": [
      "[[0 0 0 1 0 0 1 0 1 0]\n",
      " [0 1 1 1 0 1 0 1 0 1]\n",
      " [0 0 0 1 0 0 0 0 0 1]]\n"
     ]
    }
   ],
   "source": [
    "reviews_test_example = [\"They like bananas\",\n",
    "                   \"We hate oranges bananas and apples\",\n",
    "                   \"We love bananas\"] #New word!\n",
    "\n",
    "X_test_example = vectorizer.transform(reviews_test_example)\n",
    "\n",
    "print(X_test_example.todense())"
   ]
  },
  {
   "cell_type": "markdown",
   "metadata": {},
   "source": [
    "We should acknowledge few facts. Firstly, CountVectorizer does not take order into account. Secondly, it ignores one-letter words (this can be changed during initialization). Finally, for test values, CountVectorizer ignores words which are not in it's dictionary."
   ]
  },
  {
   "cell_type": "markdown",
   "metadata": {},
   "source": [
    "## Exercise 2 \n",
    "a) Split dataset into training and test sets.     \n",
    "b) Transform reviews into vectors using CountVectorizer. "
   ]
  },
  {
   "cell_type": "code",
   "execution_count": 8,
   "metadata": {},
   "outputs": [],
   "source": [
    "#a)\n",
    "import time\n",
    "start = time.time()\n",
    "\n",
    "review_train, review_test, rating_train, rating_test = train_test_split(baby_df.review,baby_df.rating, test_size=0.3, random_state=44)\n",
    "#splitting dataset into training and test sets in ratio 7 to 3"
   ]
  },
  {
   "cell_type": "code",
   "execution_count": 9,
   "metadata": {},
   "outputs": [],
   "source": [
    "#b)\n",
    "vectorizer = CountVectorizer()\n",
    "vectorizer.fit(baby_df.review)\n",
    "# fit vectorizer to review\n",
    "review_train_V = vectorizer.transform(review_train)\n",
    "review_test_V = vectorizer.transform(review_test)\n",
    "# data transformation"
   ]
  },
  {
   "cell_type": "markdown",
   "source": [
    "## Exercise 3 \n",
    "a) Train LogisticRegression model on training data (reviews processed with CountVectorizer, ratings as they were).   \n",
    "b) Print 10 most positive and 10 most negative words."
   ],
   "metadata": {
    "collapsed": false
   }
  },
  {
   "cell_type": "code",
   "execution_count": 10,
   "metadata": {},
   "outputs": [
    {
     "data": {
      "text/plain": "LogisticRegression()"
     },
     "execution_count": 10,
     "metadata": {},
     "output_type": "execute_result"
    }
   ],
   "source": [
    "#a)\n",
    "model = LogisticRegression()\n",
    "model.fit(review_train_V, rating_train)\n",
    "# creating model of logistic regression and fitting data"
   ]
  },
  {
   "cell_type": "code",
   "execution_count": 11,
   "metadata": {},
   "outputs": [
    {
     "name": "stdout",
     "output_type": "stream",
     "text": [
      "The most positive:  ['awesome' 'highly' 'excellent' 'exactly' 'glad' 'perfectly' 'pleased'\n",
      " 'beautiful' 'helps' 'complaint']\n",
      "The most negative:  ['horrible' 'poorly' 'returned' 'returning' 'disappointing' 'poor'\n",
      " 'useless' 'terrible' 'waste' 'worst']\n"
     ]
    }
   ],
   "source": [
    "#b)\n",
    "indexes = np.argsort(model.coef_) # sorts by coefficients, get indexes in right order\n",
    "words = np.array(vectorizer.get_feature_names()) # Returns a list of feature names, ordered by their indexes\n",
    "\n",
    "print(\"The most positive: \", words[indexes[0, :10]]) # writing out the first 10\n",
    "print(\"The most negative: \", words[indexes[0,-10:]]) #writing out the last 10"
   ]
  },
  {
   "cell_type": "markdown",
   "metadata": {},
   "source": [
    "## Exercise 4 \n",
    "a) Predict the sentiment of test data reviews.   \n",
    "b) Predict the sentiment of test data reviews in terms of probability.   \n",
    "c) Find five most positive and most negative reviews.   \n",
    "d) Calculate the accuracy of predictions."
   ]
  },
  {
   "cell_type": "code",
   "execution_count": 12,
   "metadata": {},
   "outputs": [],
   "source": [
    "#a)\n",
    "rating_pred = model.predict(review_test_V) # calculate ratings based on review using model creating by LogisticRegression"
   ]
  },
  {
   "cell_type": "code",
   "execution_count": 13,
   "metadata": {},
   "outputs": [],
   "source": [
    "#b)\n",
    "rating_pred_proba = model.predict_proba(review_test_V)\n",
    "# calculate ratings based on review using model creating by LogisticRegression\n",
    "# predict gives only -1, 0 ,1\n",
    "# predict_proba gives probabilities"
   ]
  },
  {
   "cell_type": "code",
   "execution_count": 14,
   "metadata": {},
   "outputs": [
    {
     "name": "stdout",
     "output_type": "stream",
     "text": [
      "121321    I cant say this worked as a trainer cup since ...\n",
      "181321    I just bought this after my Withings stopped w...\n",
      "33939     I bought the Natures Touch Papasan Cradle Swin...\n",
      "10416     February 2011 3 starsI was excited when one of...\n",
      "183236    I am not going to preach to you all about how ...\n",
      "Name: review, dtype: object\n",
      "140655    I had an Advocate 65 prior to buying this 70 m...\n",
      "10180     Please see my email to the companyHelloI am wr...\n",
      "120209    This is the first review I have ever written o...\n",
      "77987     Bought August 2010 after reading reviews about...\n",
      "147902    My disappointment with this product prompted m...\n",
      "Name: review, dtype: object\n"
     ]
    }
   ],
   "source": [
    "#c)\n",
    "indexes_P = np .argsort(rating_pred_proba[:,1])[-5:]\n",
    "print(review_test.iloc[indexes_P])\n",
    "\n",
    "indexes_N = np.argsort(rating_pred_proba[:,0])[-5:]\n",
    "print(review_test.iloc[indexes_N])\n",
    "\n",
    "time1 = time.time() - start"
   ]
  },
  {
   "cell_type": "code",
   "execution_count": 15,
   "metadata": {},
   "outputs": [
    {
     "name": "stdout",
     "output_type": "stream",
     "text": [
      "0.8469124591354885\n"
     ]
    }
   ],
   "source": [
    "#d)\n",
    "AoP = sum(rating_pred==rating_test)/len(rating_test)\n",
    "print(AoP)"
   ]
  },
  {
   "cell_type": "markdown",
   "metadata": {},
   "source": [
    "## Exercise 5\n",
    "In this exercise we will limit the dictionary of CountVectorizer to the set of significant words, defined below.\n",
    "\n",
    "\n",
    "a) Redo exercises 2-5 using limited dictionary.   \n",
    "b) Check the impact of all the words from the dictionary.   \n",
    "c) Compare accuracy of predictions and the time of evaluation."
   ]
  },
  {
   "cell_type": "code",
   "execution_count": 16,
   "metadata": {},
   "outputs": [],
   "source": [
    "significant_words = ['love','great','easy','old','little','perfect','loves','well','able','car','broke','less','even','waste','disappointed','work','product','money','would','return']"
   ]
  },
  {
   "cell_type": "code",
   "execution_count": 17,
   "metadata": {},
   "outputs": [],
   "source": [
    "#a)\n",
    "\n",
    "X_train, X_test, y_train, y_test = train_test_split(baby_df.review,baby_df.rating, test_size=0.3, random_state=44)\n"
   ]
  },
  {
   "cell_type": "code",
   "execution_count": 18,
   "metadata": {},
   "outputs": [
    {
     "name": "stdout",
     "output_type": "stream",
     "text": [
      "The most positive:  ['loves' 'perfect' 'love' 'easy' 'great' 'little' 'well' 'able' 'old'\n",
      " 'car']\n",
      "The most negative:  ['less' 'would' 'product' 'work' 'even' 'money' 'broke' 'return'\n",
      " 'disappointed' 'waste']\n",
      "11978     After reading the other reviews I have a coupl...\n",
      "9592      My husband and I purchased Avent bottles for o...\n",
      "134999    Let me begin with the fact that the monitor wo...\n",
      "56757     I bought this bedding set for my little guy be...\n",
      "171041    Ill just say in advance that the haters can ju...\n",
      "Name: review, dtype: object\n",
      "99430     Before My husband  I bought these we did read ...\n",
      "143020    Totally cheap Wish I could return it to China ...\n",
      "3746      Prior to parenthood I had heard several parent...\n",
      "168391    I loved all the features of the car seat  It i...\n",
      "6286      I am extremely disappointed with this productw...\n",
      "Name: review, dtype: object\n"
     ]
    }
   ],
   "source": [
    "#b)\n",
    "start2= time.time()\n",
    "vectorizer = CountVectorizer()\n",
    "vectorizer.fit(significant_words)\n",
    "\n",
    "X_train_V = vectorizer.transform(X_train.values)\n",
    "X_test_V = vectorizer.transform(X_test.values)\n",
    "\n",
    "model = LogisticRegression()\n",
    "model.fit(X_train_V, y_train)\n",
    "\n",
    "indexes = np.argsort(model.coef_)\n",
    "words = np.array(vectorizer.get_feature_names())\n",
    "print(\"The most positive: \", words[indexes[0,:10]])\n",
    "print(\"The most negative: \", words[indexes[0, -10:]])\n",
    "\n",
    "\n",
    "y_pred = model.predict(X_test_V)\n",
    "\n",
    "y_pred_proba = model.predict_proba(X_test_V)\n",
    "\n",
    "indexes_P = np .argsort(y_pred_proba[:,1])[-5:]\n",
    "print(X_test.iloc[indexes_P])\n",
    "indexes_N = np.argsort(y_pred_proba[:,0])[-5:]\n",
    "print(X_test.iloc[indexes_N])\n",
    "\n",
    "end2 = time.time()\n",
    "\n",
    "AoP2 = sum(y_pred==y_test)/len(y_test)\n",
    "#impact of words from dictionary is very high, the results have changed completely"
   ]
  },
  {
   "cell_type": "code",
   "execution_count": 19,
   "metadata": {
    "pycharm": {
     "name": "#%%\n"
    }
   },
   "outputs": [
    {
     "name": "stdout",
     "output_type": "stream",
     "text": [
      "Time without limited dictionary  59.23413372039795\n",
      "Time with limited dictionary  19.462774753570557\n",
      "Accuracy of predictions without limited dictionary  0.8469124591354885\n",
      "Accuracy of predictions with limited dictionary  0.789847439157283\n"
     ]
    }
   ],
   "source": [
    "#c)\n",
    "print(\"Time without limited dictionary \", time1)\n",
    "print(\"Time with limited dictionary \", end2 - start2)\n",
    "print(\"Accuracy of predictions without limited dictionary \", AoP)\n",
    "print(\"Accuracy of predictions with limited dictionary \", AoP2)\n",
    "# We can see that limited dictionary improves time and accuracy"
   ]
  }
 ],
 "metadata": {
  "kernelspec": {
   "display_name": "Python 3",
   "language": "python",
   "name": "python3"
  },
  "language_info": {
   "codemirror_mode": {
    "name": "ipython",
    "version": 3
   },
   "file_extension": ".py",
   "mimetype": "text/x-python",
   "name": "python",
   "nbconvert_exporter": "python",
   "pygments_lexer": "ipython3",
   "version": "3.7.4"
  }
 },
 "nbformat": 4,
 "nbformat_minor": 4
}