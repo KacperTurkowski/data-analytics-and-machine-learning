{
  "nbformat": 4,
  "nbformat_minor": 0,
  "metadata": {
    "kernelspec": {
      "name": "python3",
      "display_name": "Python 3",
      "language": "python"
    },
    "language_info": {
      "name": "python",
      "version": "3.6.11",
      "mimetype": "text/x-python",
      "codemirror_mode": {
        "name": "ipython",
        "version": 3
      },
      "pygments_lexer": "ipython3",
      "nbconvert_exporter": "python",
      "file_extension": ".py"
    },
    "colab": {
      "name": "Assignment_1_without_code.ipynb",
      "provenance": [],
      "toc_visible": true
    }
  },
  "cells": [
    {
      "cell_type": "code",
      "metadata": {
        "trusted": true,
        "id": "DJtUcGXVvjCt"
      },
      "source": [
        "import pandas as pd\n",
        "import numpy as np\n",
        "import matplotlib.pyplot as plt"
      ],
      "execution_count": null,
      "outputs": []
    },
    {
      "cell_type": "markdown",
      "metadata": {
        "id": "Zb3qOB0vvjCz"
      },
      "source": [
        "## Exercise 1\n",
        "a) Load house sales data from file kc_house_data.csv, print first records.  \n",
        "b) Print the variable list. Select categorical and numerical variables.  \n",
        "c) Compute basic statistics of numerical variables. Are all of them meaningful?"
      ]
    },
    {
      "cell_type": "code",
      "metadata": {
        "trusted": true,
        "id": "jx0maV_SvjC1",
        "outputId": "9b3daea1-e1ba-4ee3-9556-fa0409dc071f",
        "colab": {
          "base_uri": "https://localhost:8080/",
          "height": 224
        }
      },
      "source": [
        "pd.read_csv(\"kc_house_data.csv\").head()\n",
        "# Based on the first five records, we find out what the data looks like and what categories it is divided into"
      ],
      "execution_count": null,
      "outputs": [
        {
          "output_type": "execute_result",
          "data": {
            "text/html": [
              "<div>\n",
              "<style scoped>\n",
              "    .dataframe tbody tr th:only-of-type {\n",
              "        vertical-align: middle;\n",
              "    }\n",
              "\n",
              "    .dataframe tbody tr th {\n",
              "        vertical-align: top;\n",
              "    }\n",
              "\n",
              "    .dataframe thead th {\n",
              "        text-align: right;\n",
              "    }\n",
              "</style>\n",
              "<table border=\"1\" class=\"dataframe\">\n",
              "  <thead>\n",
              "    <tr style=\"text-align: right;\">\n",
              "      <th></th>\n",
              "      <th>id</th>\n",
              "      <th>date</th>\n",
              "      <th>price</th>\n",
              "      <th>bedrooms</th>\n",
              "      <th>bathrooms</th>\n",
              "      <th>sqft_living</th>\n",
              "      <th>sqft_lot</th>\n",
              "      <th>floors</th>\n",
              "      <th>waterfront</th>\n",
              "      <th>view</th>\n",
              "      <th>condition</th>\n",
              "      <th>grade</th>\n",
              "      <th>sqft_above</th>\n",
              "      <th>sqft_basement</th>\n",
              "      <th>yr_built</th>\n",
              "      <th>yr_renovated</th>\n",
              "      <th>zipcode</th>\n",
              "      <th>lat</th>\n",
              "      <th>long</th>\n",
              "      <th>sqft_living15</th>\n",
              "      <th>sqft_lot15</th>\n",
              "    </tr>\n",
              "  </thead>\n",
              "  <tbody>\n",
              "    <tr>\n",
              "      <th>0</th>\n",
              "      <td>7129300520</td>\n",
              "      <td>20141013T000000</td>\n",
              "      <td>221900.0</td>\n",
              "      <td>3</td>\n",
              "      <td>1.00</td>\n",
              "      <td>1180</td>\n",
              "      <td>5650</td>\n",
              "      <td>1.0</td>\n",
              "      <td>0</td>\n",
              "      <td>0</td>\n",
              "      <td>3</td>\n",
              "      <td>7</td>\n",
              "      <td>1180</td>\n",
              "      <td>0</td>\n",
              "      <td>1955</td>\n",
              "      <td>0</td>\n",
              "      <td>98178</td>\n",
              "      <td>47.5112</td>\n",
              "      <td>-122.257</td>\n",
              "      <td>1340</td>\n",
              "      <td>5650</td>\n",
              "    </tr>\n",
              "    <tr>\n",
              "      <th>1</th>\n",
              "      <td>6414100192</td>\n",
              "      <td>20141209T000000</td>\n",
              "      <td>538000.0</td>\n",
              "      <td>3</td>\n",
              "      <td>2.25</td>\n",
              "      <td>2570</td>\n",
              "      <td>7242</td>\n",
              "      <td>2.0</td>\n",
              "      <td>0</td>\n",
              "      <td>0</td>\n",
              "      <td>3</td>\n",
              "      <td>7</td>\n",
              "      <td>2170</td>\n",
              "      <td>400</td>\n",
              "      <td>1951</td>\n",
              "      <td>1991</td>\n",
              "      <td>98125</td>\n",
              "      <td>47.7210</td>\n",
              "      <td>-122.319</td>\n",
              "      <td>1690</td>\n",
              "      <td>7639</td>\n",
              "    </tr>\n",
              "    <tr>\n",
              "      <th>2</th>\n",
              "      <td>5631500400</td>\n",
              "      <td>20150225T000000</td>\n",
              "      <td>180000.0</td>\n",
              "      <td>2</td>\n",
              "      <td>1.00</td>\n",
              "      <td>770</td>\n",
              "      <td>10000</td>\n",
              "      <td>1.0</td>\n",
              "      <td>0</td>\n",
              "      <td>0</td>\n",
              "      <td>3</td>\n",
              "      <td>6</td>\n",
              "      <td>770</td>\n",
              "      <td>0</td>\n",
              "      <td>1933</td>\n",
              "      <td>0</td>\n",
              "      <td>98028</td>\n",
              "      <td>47.7379</td>\n",
              "      <td>-122.233</td>\n",
              "      <td>2720</td>\n",
              "      <td>8062</td>\n",
              "    </tr>\n",
              "    <tr>\n",
              "      <th>3</th>\n",
              "      <td>2487200875</td>\n",
              "      <td>20141209T000000</td>\n",
              "      <td>604000.0</td>\n",
              "      <td>4</td>\n",
              "      <td>3.00</td>\n",
              "      <td>1960</td>\n",
              "      <td>5000</td>\n",
              "      <td>1.0</td>\n",
              "      <td>0</td>\n",
              "      <td>0</td>\n",
              "      <td>5</td>\n",
              "      <td>7</td>\n",
              "      <td>1050</td>\n",
              "      <td>910</td>\n",
              "      <td>1965</td>\n",
              "      <td>0</td>\n",
              "      <td>98136</td>\n",
              "      <td>47.5208</td>\n",
              "      <td>-122.393</td>\n",
              "      <td>1360</td>\n",
              "      <td>5000</td>\n",
              "    </tr>\n",
              "    <tr>\n",
              "      <th>4</th>\n",
              "      <td>1954400510</td>\n",
              "      <td>20150218T000000</td>\n",
              "      <td>510000.0</td>\n",
              "      <td>3</td>\n",
              "      <td>2.00</td>\n",
              "      <td>1680</td>\n",
              "      <td>8080</td>\n",
              "      <td>1.0</td>\n",
              "      <td>0</td>\n",
              "      <td>0</td>\n",
              "      <td>3</td>\n",
              "      <td>8</td>\n",
              "      <td>1680</td>\n",
              "      <td>0</td>\n",
              "      <td>1987</td>\n",
              "      <td>0</td>\n",
              "      <td>98074</td>\n",
              "      <td>47.6168</td>\n",
              "      <td>-122.045</td>\n",
              "      <td>1800</td>\n",
              "      <td>7503</td>\n",
              "    </tr>\n",
              "  </tbody>\n",
              "</table>\n",
              "</div>"
            ],
            "text/plain": [
              "           id             date     price  ...     long  sqft_living15  sqft_lot15\n",
              "0  7129300520  20141013T000000  221900.0  ... -122.257           1340        5650\n",
              "1  6414100192  20141209T000000  538000.0  ... -122.319           1690        7639\n",
              "2  5631500400  20150225T000000  180000.0  ... -122.233           2720        8062\n",
              "3  2487200875  20141209T000000  604000.0  ... -122.393           1360        5000\n",
              "4  1954400510  20150218T000000  510000.0  ... -122.045           1800        7503\n",
              "\n",
              "[5 rows x 21 columns]"
            ]
          },
          "metadata": {
            "tags": []
          },
          "execution_count": 2
        }
      ]
    },
    {
      "cell_type": "code",
      "metadata": {
        "trusted": true,
        "id": "b0Iwp8jTvjC6",
        "outputId": "32b79141-0589-4e49-ad05-7834f5364cda",
        "colab": {
          "base_uri": "https://localhost:8080/",
          "height": 102
        }
      },
      "source": [
        "house = pd.read_csv(\"kc_house_data.csv\")\n",
        "print(house.columns)\n",
        "house_categorical_df = house[['id','date','waterfront','view','condition','grade','zipcode']]\n",
        "house_numerical_df = house[['bathrooms','bedrooms','floors','lat','long','price','sqft_above','sqft_basement','sqft_living', 'sqft_living15', 'sqft_lot', 'sqft_lot15', 'yr_built','yr_renovated']]\n",
        "#Program prints the categories, data is divided into two groups"
      ],
      "execution_count": null,
      "outputs": [
        {
          "output_type": "stream",
          "text": [
            "Index(['id', 'date', 'price', 'bedrooms', 'bathrooms', 'sqft_living',\n",
            "       'sqft_lot', 'floors', 'waterfront', 'view', 'condition', 'grade',\n",
            "       'sqft_above', 'sqft_basement', 'yr_built', 'yr_renovated', 'zipcode',\n",
            "       'lat', 'long', 'sqft_living15', 'sqft_lot15'],\n",
            "      dtype='object')\n"
          ],
          "name": "stdout"
        }
      ]
    },
    {
      "cell_type": "code",
      "metadata": {
        "scrolled": true,
        "trusted": true,
        "id": "ob76z3VgvjC_",
        "outputId": "59849492-c3f2-480a-9dfa-5b53423643a4",
        "colab": {
          "base_uri": "https://localhost:8080/",
          "height": 317
        }
      },
      "source": [
        "house_numerical_df.describe()\n",
        "#Numerical categories are describred with: count of records, mean, standard deviationand by percent."
      ],
      "execution_count": null,
      "outputs": [
        {
          "output_type": "execute_result",
          "data": {
            "text/html": [
              "<div>\n",
              "<style scoped>\n",
              "    .dataframe tbody tr th:only-of-type {\n",
              "        vertical-align: middle;\n",
              "    }\n",
              "\n",
              "    .dataframe tbody tr th {\n",
              "        vertical-align: top;\n",
              "    }\n",
              "\n",
              "    .dataframe thead th {\n",
              "        text-align: right;\n",
              "    }\n",
              "</style>\n",
              "<table border=\"1\" class=\"dataframe\">\n",
              "  <thead>\n",
              "    <tr style=\"text-align: right;\">\n",
              "      <th></th>\n",
              "      <th>bathrooms</th>\n",
              "      <th>bedrooms</th>\n",
              "      <th>floors</th>\n",
              "      <th>lat</th>\n",
              "      <th>long</th>\n",
              "      <th>price</th>\n",
              "      <th>sqft_above</th>\n",
              "      <th>sqft_basement</th>\n",
              "      <th>sqft_living</th>\n",
              "      <th>sqft_living15</th>\n",
              "      <th>sqft_lot</th>\n",
              "      <th>sqft_lot15</th>\n",
              "      <th>yr_built</th>\n",
              "      <th>yr_renovated</th>\n",
              "    </tr>\n",
              "  </thead>\n",
              "  <tbody>\n",
              "    <tr>\n",
              "      <th>count</th>\n",
              "      <td>21613.000000</td>\n",
              "      <td>21613.000000</td>\n",
              "      <td>21613.000000</td>\n",
              "      <td>21613.000000</td>\n",
              "      <td>21613.000000</td>\n",
              "      <td>2.161300e+04</td>\n",
              "      <td>21613.000000</td>\n",
              "      <td>21613.000000</td>\n",
              "      <td>21613.000000</td>\n",
              "      <td>21613.000000</td>\n",
              "      <td>2.161300e+04</td>\n",
              "      <td>21613.000000</td>\n",
              "      <td>21613.000000</td>\n",
              "      <td>21613.000000</td>\n",
              "    </tr>\n",
              "    <tr>\n",
              "      <th>mean</th>\n",
              "      <td>2.114757</td>\n",
              "      <td>3.370842</td>\n",
              "      <td>1.494309</td>\n",
              "      <td>47.560053</td>\n",
              "      <td>-122.213896</td>\n",
              "      <td>5.400881e+05</td>\n",
              "      <td>1788.390691</td>\n",
              "      <td>291.509045</td>\n",
              "      <td>2079.899736</td>\n",
              "      <td>1986.552492</td>\n",
              "      <td>1.510697e+04</td>\n",
              "      <td>12768.455652</td>\n",
              "      <td>1971.005136</td>\n",
              "      <td>84.402258</td>\n",
              "    </tr>\n",
              "    <tr>\n",
              "      <th>std</th>\n",
              "      <td>0.770163</td>\n",
              "      <td>0.930062</td>\n",
              "      <td>0.539989</td>\n",
              "      <td>0.138564</td>\n",
              "      <td>0.140828</td>\n",
              "      <td>3.671272e+05</td>\n",
              "      <td>828.090978</td>\n",
              "      <td>442.575043</td>\n",
              "      <td>918.440897</td>\n",
              "      <td>685.391304</td>\n",
              "      <td>4.142051e+04</td>\n",
              "      <td>27304.179631</td>\n",
              "      <td>29.373411</td>\n",
              "      <td>401.679240</td>\n",
              "    </tr>\n",
              "    <tr>\n",
              "      <th>min</th>\n",
              "      <td>0.000000</td>\n",
              "      <td>0.000000</td>\n",
              "      <td>1.000000</td>\n",
              "      <td>47.155900</td>\n",
              "      <td>-122.519000</td>\n",
              "      <td>7.500000e+04</td>\n",
              "      <td>290.000000</td>\n",
              "      <td>0.000000</td>\n",
              "      <td>290.000000</td>\n",
              "      <td>399.000000</td>\n",
              "      <td>5.200000e+02</td>\n",
              "      <td>651.000000</td>\n",
              "      <td>1900.000000</td>\n",
              "      <td>0.000000</td>\n",
              "    </tr>\n",
              "    <tr>\n",
              "      <th>25%</th>\n",
              "      <td>1.750000</td>\n",
              "      <td>3.000000</td>\n",
              "      <td>1.000000</td>\n",
              "      <td>47.471000</td>\n",
              "      <td>-122.328000</td>\n",
              "      <td>3.219500e+05</td>\n",
              "      <td>1190.000000</td>\n",
              "      <td>0.000000</td>\n",
              "      <td>1427.000000</td>\n",
              "      <td>1490.000000</td>\n",
              "      <td>5.040000e+03</td>\n",
              "      <td>5100.000000</td>\n",
              "      <td>1951.000000</td>\n",
              "      <td>0.000000</td>\n",
              "    </tr>\n",
              "    <tr>\n",
              "      <th>50%</th>\n",
              "      <td>2.250000</td>\n",
              "      <td>3.000000</td>\n",
              "      <td>1.500000</td>\n",
              "      <td>47.571800</td>\n",
              "      <td>-122.230000</td>\n",
              "      <td>4.500000e+05</td>\n",
              "      <td>1560.000000</td>\n",
              "      <td>0.000000</td>\n",
              "      <td>1910.000000</td>\n",
              "      <td>1840.000000</td>\n",
              "      <td>7.618000e+03</td>\n",
              "      <td>7620.000000</td>\n",
              "      <td>1975.000000</td>\n",
              "      <td>0.000000</td>\n",
              "    </tr>\n",
              "    <tr>\n",
              "      <th>75%</th>\n",
              "      <td>2.500000</td>\n",
              "      <td>4.000000</td>\n",
              "      <td>2.000000</td>\n",
              "      <td>47.678000</td>\n",
              "      <td>-122.125000</td>\n",
              "      <td>6.450000e+05</td>\n",
              "      <td>2210.000000</td>\n",
              "      <td>560.000000</td>\n",
              "      <td>2550.000000</td>\n",
              "      <td>2360.000000</td>\n",
              "      <td>1.068800e+04</td>\n",
              "      <td>10083.000000</td>\n",
              "      <td>1997.000000</td>\n",
              "      <td>0.000000</td>\n",
              "    </tr>\n",
              "    <tr>\n",
              "      <th>max</th>\n",
              "      <td>8.000000</td>\n",
              "      <td>33.000000</td>\n",
              "      <td>3.500000</td>\n",
              "      <td>47.777600</td>\n",
              "      <td>-121.315000</td>\n",
              "      <td>7.700000e+06</td>\n",
              "      <td>9410.000000</td>\n",
              "      <td>4820.000000</td>\n",
              "      <td>13540.000000</td>\n",
              "      <td>6210.000000</td>\n",
              "      <td>1.651359e+06</td>\n",
              "      <td>871200.000000</td>\n",
              "      <td>2015.000000</td>\n",
              "      <td>2015.000000</td>\n",
              "    </tr>\n",
              "  </tbody>\n",
              "</table>\n",
              "</div>"
            ],
            "text/plain": [
              "          bathrooms      bedrooms  ...      yr_built  yr_renovated\n",
              "count  21613.000000  21613.000000  ...  21613.000000  21613.000000\n",
              "mean       2.114757      3.370842  ...   1971.005136     84.402258\n",
              "std        0.770163      0.930062  ...     29.373411    401.679240\n",
              "min        0.000000      0.000000  ...   1900.000000      0.000000\n",
              "25%        1.750000      3.000000  ...   1951.000000      0.000000\n",
              "50%        2.250000      3.000000  ...   1975.000000      0.000000\n",
              "75%        2.500000      4.000000  ...   1997.000000      0.000000\n",
              "max        8.000000     33.000000  ...   2015.000000   2015.000000\n",
              "\n",
              "[8 rows x 14 columns]"
            ]
          },
          "metadata": {
            "tags": []
          },
          "execution_count": 4
        }
      ]
    },
    {
      "cell_type": "markdown",
      "metadata": {
        "id": "ansxkp9evjDE"
      },
      "source": [
        "## Exercise 2\n",
        "Using scatter plot:  \n",
        "a) Show the relation of square footage and price.  \n",
        "b) Check how price is influenced by apartment's grade. Find other variables correlated with price.  \n",
        "c) Check how good apartments are distributed over the city. First, plot zipcode versus price. Then, use apartments coordinates (longitude and lattitude) in order to show where apartments of good grade are located. "
      ]
    },
    {
      "cell_type": "code",
      "metadata": {
        "trusted": true,
        "id": "gVa7DFf7vjDF",
        "outputId": "b50e5a77-8377-4eaa-d6c9-2c85fd0971d9",
        "colab": {
          "base_uri": "https://localhost:8080/",
          "height": 281
        }
      },
      "source": [
        "plt.scatter(house[['sqft_living']],house[['price']])\n",
        "plt.xlabel('sqft living')\n",
        "plt.ylabel('price')\n",
        "plt.ticklabel_format(axis='y', style=\"plain\")\n",
        "plt.show()\n",
        "# In this data most of houses are small\n",
        "# We could see one house which is quite cheap and has high sqft living"
      ],
      "execution_count": null,
      "outputs": [
        {
          "output_type": "display_data",
          "data": {
            "image/png": "[encoded data removed]",
            "text/plain": [
              "<Figure size 432x288 with 1 Axes>"
            ]
          },
          "metadata": {
            "tags": [],
            "needs_background": "light"
          }
        }
      ]
    },
    {
      "cell_type": "code",
      "metadata": {
        "trusted": true,
        "id": "Fo1AbPzUvjDK",
        "outputId": "07844106-7949-4e0b-fb1c-d4f56fe2a727",
        "colab": {
          "base_uri": "https://localhost:8080/",
          "height": 281
        }
      },
      "source": [
        "plt.scatter(house[['grade']],house[['price']])\n",
        "plt.ticklabel_format(axis='y', style=\"plain\")\n",
        "plt.xlabel('grade')\n",
        "plt.ylabel('price')\n",
        "plt.show()\n",
        "# relation between price and grade is visible \n",
        "# houses with better grade have higher price"
      ],
      "execution_count": null,
      "outputs": [
        {
          "output_type": "display_data",
          "data": {
            "image/png": "[encoded data removed]",
            "text/plain": [
              "<Figure size 432x288 with 1 Axes>"
            ]
          },
          "metadata": {
            "tags": [],
            "needs_background": "light"
          }
        }
      ]
    },
    {
      "cell_type": "code",
      "metadata": {
        "trusted": true,
        "id": "B5S-ivaUvjDP",
        "outputId": "9011d3a6-8a51-442b-f955-91b79738bbce",
        "colab": {
          "base_uri": "https://localhost:8080/",
          "height": 281
        }
      },
      "source": [
        "plt.scatter(house[['zipcode']],house[['price']])\n",
        "plt.ticklabel_format(axis='y', style=\"plain\")\n",
        "plt.xlabel('zipcode')\n",
        "plt.ylabel('price')\n",
        "plt.show()\n",
        "# On this graph we can see that there are better and worse district in this city"
      ],
      "execution_count": null,
      "outputs": [
        {
          "output_type": "display_data",
          "data": {
            "image/png": "[encoded data removed]",
            "text/plain": [
              "<Figure size 432x288 with 1 Axes>"
            ]
          },
          "metadata": {
            "tags": [],
            "needs_background": "light"
          }
        }
      ]
    },
    {
      "cell_type": "code",
      "metadata": {
        "trusted": true,
        "id": "gjr8rAsJvjDU",
        "outputId": "9fe0ab65-e9af-48c6-9911-a61365538d94",
        "colab": {
          "base_uri": "https://localhost:8080/",
          "height": 281
        }
      },
      "source": [
        "plt.scatter(house[['long']],house[['lat']],None,house[['grade']].values)\n",
        "plt.xlabel('longtitude')\n",
        "plt.ylabel('lattitude')\n",
        "plt.rcParams[\"figure.figsize\"] = (20,20)\n",
        "plt.show()\n",
        "# We can see where houses with better grade are\n",
        "# The best houses are in one point, but the worst are in random places"
      ],
      "execution_count": null,
      "outputs": [
        {
          "output_type": "display_data",
          "data": {
            "image/png": "[encoded data removed]",
            "text/plain": [
              "<Figure size 432x288 with 1 Axes>"
            ]
          },
          "metadata": {
            "tags": [],
            "needs_background": "light"
          }
        }
      ]
    },
    {
      "cell_type": "markdown",
      "metadata": {
        "id": "acVNJkuSvjDY"
      },
      "source": [
        "## Exercise 3\n",
        "a) Create boxplot of apartment's grade versus it's price. Compare with plot 2b).  \n",
        "b) Create mosaic plot of any two categorical variables."
      ]
    },
    {
      "cell_type": "code",
      "metadata": {
        "trusted": true,
        "id": "Ncw4MrBHvjDZ",
        "outputId": "e0783ea1-6503-4324-a233-d93bceee96ed",
        "colab": {
          "base_uri": "https://localhost:8080/",
          "height": 361
        }
      },
      "source": [
        "plt.boxplot=house.boxplot(column='price',by='grade',grid=False)\n",
        "# Here we can see houses which are overpriced in ratio to grade"
      ],
      "execution_count": null,
      "outputs": [
        {
          "output_type": "display_data",
          "data": {
            "image/png": "[encoded data removed]",
            "text/plain": [
              "<Figure size 360x360 with 1 Axes>"
            ]
          },
          "metadata": {
            "tags": [],
            "needs_background": "light"
          }
        }
      ]
    },
    {
      "cell_type": "code",
      "metadata": {
        "trusted": true,
        "id": "_Cy6FBx9vjDd",
        "outputId": "35c7adbd-7ba9-4487-8cdb-a0d005efae2d",
        "colab": {
          "base_uri": "https://localhost:8080/",
          "height": 329
        }
      },
      "source": [
        "from statsmodels.graphics.mosaicplot import mosaic\n",
        "\n",
        "mosaic(house, ['floors','bedrooms'])\n",
        "plt.show()\n",
        "# mosaic plot shows us which pair of data is the most popular"
      ],
      "execution_count": null,
      "outputs": [
        {
          "output_type": "display_data",
          "data": {
            "image/png": "[encoded data removed]",
            "text/plain": [
              "<Figure size 360x360 with 3 Axes>"
            ]
          },
          "metadata": {
            "tags": [],
            "needs_background": "light"
          }
        }
      ]
    },
    {
      "cell_type": "markdown",
      "metadata": {
        "id": "Li0kmL8svjDi"
      },
      "source": [
        "## Exercise 4\n",
        "\"I am interested in the house with 3 bedrooms, 2 bathrooms and 2 floors\"  \n",
        "a) Compute the basic statistics of apartments fulfilling above constraints.  \n",
        "b) Distinct accepted apartments on any of previously created plots.  \n",
        "c) Find such apartments with best price to footage ratio.  "
      ]
    },
    {
      "cell_type": "code",
      "metadata": {
        "trusted": true,
        "id": "Rz5DWTg4vjDj",
        "outputId": "968a391e-2234-45b3-80a1-5f3860349c55",
        "colab": {
          "base_uri": "https://localhost:8080/",
          "height": 317
        }
      },
      "source": [
        "temp=house.loc[house['bedrooms']==3]\n",
        "temp=temp.loc[temp['bathrooms']==2]\n",
        "temp=temp.loc[temp['floors']==2]\n",
        "temp.describe()\n",
        "# We can see statistic for conditions imposed"
      ],
      "execution_count": null,
      "outputs": [
        {
          "output_type": "execute_result",
          "data": {
            "text/html": [
              "<div>\n",
              "<style scoped>\n",
              "    .dataframe tbody tr th:only-of-type {\n",
              "        vertical-align: middle;\n",
              "    }\n",
              "\n",
              "    .dataframe tbody tr th {\n",
              "        vertical-align: top;\n",
              "    }\n",
              "\n",
              "    .dataframe thead th {\n",
              "        text-align: right;\n",
              "    }\n",
              "</style>\n",
              "<table border=\"1\" class=\"dataframe\">\n",
              "  <thead>\n",
              "    <tr style=\"text-align: right;\">\n",
              "      <th></th>\n",
              "      <th>id</th>\n",
              "      <th>price</th>\n",
              "      <th>bedrooms</th>\n",
              "      <th>bathrooms</th>\n",
              "      <th>sqft_living</th>\n",
              "      <th>sqft_lot</th>\n",
              "      <th>floors</th>\n",
              "      <th>waterfront</th>\n",
              "      <th>view</th>\n",
              "      <th>condition</th>\n",
              "      <th>grade</th>\n",
              "      <th>sqft_above</th>\n",
              "      <th>sqft_basement</th>\n",
              "      <th>yr_built</th>\n",
              "      <th>yr_renovated</th>\n",
              "      <th>zipcode</th>\n",
              "      <th>lat</th>\n",
              "      <th>long</th>\n",
              "      <th>sqft_living15</th>\n",
              "      <th>sqft_lot15</th>\n",
              "    </tr>\n",
              "  </thead>\n",
              "  <tbody>\n",
              "    <tr>\n",
              "      <th>count</th>\n",
              "      <td>1.540000e+02</td>\n",
              "      <td>1.540000e+02</td>\n",
              "      <td>154.0</td>\n",
              "      <td>154.0</td>\n",
              "      <td>154.000000</td>\n",
              "      <td>154.000000</td>\n",
              "      <td>154.0</td>\n",
              "      <td>154.000000</td>\n",
              "      <td>154.000000</td>\n",
              "      <td>154.000000</td>\n",
              "      <td>154.000000</td>\n",
              "      <td>154.000000</td>\n",
              "      <td>154.000000</td>\n",
              "      <td>154.000000</td>\n",
              "      <td>154.000000</td>\n",
              "      <td>154.000000</td>\n",
              "      <td>154.000000</td>\n",
              "      <td>154.000000</td>\n",
              "      <td>154.000000</td>\n",
              "      <td>154.000000</td>\n",
              "    </tr>\n",
              "    <tr>\n",
              "      <th>mean</th>\n",
              "      <td>4.397177e+09</td>\n",
              "      <td>5.144986e+05</td>\n",
              "      <td>3.0</td>\n",
              "      <td>2.0</td>\n",
              "      <td>1850.279221</td>\n",
              "      <td>23678.948052</td>\n",
              "      <td>2.0</td>\n",
              "      <td>0.006494</td>\n",
              "      <td>0.357143</td>\n",
              "      <td>3.435065</td>\n",
              "      <td>7.551948</td>\n",
              "      <td>1717.422078</td>\n",
              "      <td>132.857143</td>\n",
              "      <td>1969.779221</td>\n",
              "      <td>284.863636</td>\n",
              "      <td>98085.577922</td>\n",
              "      <td>47.567376</td>\n",
              "      <td>-122.247091</td>\n",
              "      <td>1802.337662</td>\n",
              "      <td>17545.123377</td>\n",
              "    </tr>\n",
              "    <tr>\n",
              "      <th>std</th>\n",
              "      <td>2.849813e+09</td>\n",
              "      <td>2.497661e+05</td>\n",
              "      <td>0.0</td>\n",
              "      <td>0.0</td>\n",
              "      <td>547.585413</td>\n",
              "      <td>83324.024708</td>\n",
              "      <td>0.0</td>\n",
              "      <td>0.080582</td>\n",
              "      <td>0.919495</td>\n",
              "      <td>0.713322</td>\n",
              "      <td>0.832684</td>\n",
              "      <td>527.473851</td>\n",
              "      <td>248.092631</td>\n",
              "      <td>34.654456</td>\n",
              "      <td>700.057328</td>\n",
              "      <td>48.808788</td>\n",
              "      <td>0.143221</td>\n",
              "      <td>0.150507</td>\n",
              "      <td>453.210930</td>\n",
              "      <td>40404.134611</td>\n",
              "    </tr>\n",
              "    <tr>\n",
              "      <th>min</th>\n",
              "      <td>7.600057e+06</td>\n",
              "      <td>2.090000e+05</td>\n",
              "      <td>3.0</td>\n",
              "      <td>2.0</td>\n",
              "      <td>1020.000000</td>\n",
              "      <td>700.000000</td>\n",
              "      <td>2.0</td>\n",
              "      <td>0.000000</td>\n",
              "      <td>0.000000</td>\n",
              "      <td>2.000000</td>\n",
              "      <td>6.000000</td>\n",
              "      <td>720.000000</td>\n",
              "      <td>0.000000</td>\n",
              "      <td>1900.000000</td>\n",
              "      <td>0.000000</td>\n",
              "      <td>98001.000000</td>\n",
              "      <td>47.194700</td>\n",
              "      <td>-122.519000</td>\n",
              "      <td>850.000000</td>\n",
              "      <td>886.000000</td>\n",
              "    </tr>\n",
              "    <tr>\n",
              "      <th>25%</th>\n",
              "      <td>2.060901e+09</td>\n",
              "      <td>3.769750e+05</td>\n",
              "      <td>3.0</td>\n",
              "      <td>2.0</td>\n",
              "      <td>1452.500000</td>\n",
              "      <td>3414.750000</td>\n",
              "      <td>2.0</td>\n",
              "      <td>0.000000</td>\n",
              "      <td>0.000000</td>\n",
              "      <td>3.000000</td>\n",
              "      <td>7.000000</td>\n",
              "      <td>1402.500000</td>\n",
              "      <td>0.000000</td>\n",
              "      <td>1942.250000</td>\n",
              "      <td>0.000000</td>\n",
              "      <td>98038.500000</td>\n",
              "      <td>47.498800</td>\n",
              "      <td>-122.361750</td>\n",
              "      <td>1452.500000</td>\n",
              "      <td>4020.000000</td>\n",
              "    </tr>\n",
              "    <tr>\n",
              "      <th>50%</th>\n",
              "      <td>3.630010e+09</td>\n",
              "      <td>4.640000e+05</td>\n",
              "      <td>3.0</td>\n",
              "      <td>2.0</td>\n",
              "      <td>1700.000000</td>\n",
              "      <td>5868.500000</td>\n",
              "      <td>2.0</td>\n",
              "      <td>0.000000</td>\n",
              "      <td>0.000000</td>\n",
              "      <td>3.000000</td>\n",
              "      <td>7.000000</td>\n",
              "      <td>1625.000000</td>\n",
              "      <td>0.000000</td>\n",
              "      <td>1984.500000</td>\n",
              "      <td>0.000000</td>\n",
              "      <td>98103.000000</td>\n",
              "      <td>47.584750</td>\n",
              "      <td>-122.299500</td>\n",
              "      <td>1725.000000</td>\n",
              "      <td>6278.000000</td>\n",
              "    </tr>\n",
              "    <tr>\n",
              "      <th>75%</th>\n",
              "      <td>7.184074e+09</td>\n",
              "      <td>5.894625e+05</td>\n",
              "      <td>3.0</td>\n",
              "      <td>2.0</td>\n",
              "      <td>2127.500000</td>\n",
              "      <td>10800.250000</td>\n",
              "      <td>2.0</td>\n",
              "      <td>0.000000</td>\n",
              "      <td>0.000000</td>\n",
              "      <td>4.000000</td>\n",
              "      <td>8.000000</td>\n",
              "      <td>1977.500000</td>\n",
              "      <td>207.500000</td>\n",
              "      <td>1997.500000</td>\n",
              "      <td>0.000000</td>\n",
              "      <td>98122.000000</td>\n",
              "      <td>47.682400</td>\n",
              "      <td>-122.149250</td>\n",
              "      <td>2117.500000</td>\n",
              "      <td>10392.250000</td>\n",
              "    </tr>\n",
              "    <tr>\n",
              "      <th>max</th>\n",
              "      <td>9.829200e+09</td>\n",
              "      <td>1.755000e+06</td>\n",
              "      <td>3.0</td>\n",
              "      <td>2.0</td>\n",
              "      <td>3650.000000</td>\n",
              "      <td>843309.000000</td>\n",
              "      <td>2.0</td>\n",
              "      <td>1.000000</td>\n",
              "      <td>4.000000</td>\n",
              "      <td>5.000000</td>\n",
              "      <td>10.000000</td>\n",
              "      <td>3650.000000</td>\n",
              "      <td>1120.000000</td>\n",
              "      <td>2014.000000</td>\n",
              "      <td>2014.000000</td>\n",
              "      <td>98199.000000</td>\n",
              "      <td>47.777000</td>\n",
              "      <td>-121.709000</td>\n",
              "      <td>3170.000000</td>\n",
              "      <td>273992.000000</td>\n",
              "    </tr>\n",
              "  </tbody>\n",
              "</table>\n",
              "</div>"
            ],
            "text/plain": [
              "                 id         price  ...  sqft_living15     sqft_lot15\n",
              "count  1.540000e+02  1.540000e+02  ...     154.000000     154.000000\n",
              "mean   4.397177e+09  5.144986e+05  ...    1802.337662   17545.123377\n",
              "std    2.849813e+09  2.497661e+05  ...     453.210930   40404.134611\n",
              "min    7.600057e+06  2.090000e+05  ...     850.000000     886.000000\n",
              "25%    2.060901e+09  3.769750e+05  ...    1452.500000    4020.000000\n",
              "50%    3.630010e+09  4.640000e+05  ...    1725.000000    6278.000000\n",
              "75%    7.184074e+09  5.894625e+05  ...    2117.500000   10392.250000\n",
              "max    9.829200e+09  1.755000e+06  ...    3170.000000  273992.000000\n",
              "\n",
              "[8 rows x 20 columns]"
            ]
          },
          "metadata": {
            "tags": []
          },
          "execution_count": 13
        }
      ]
    },
    {
      "cell_type": "code",
      "metadata": {
        "trusted": true,
        "id": "8i-fXVfovjDp",
        "outputId": "a6228e60-c32c-4a8e-c5db-42f21203a832",
        "colab": {
          "base_uri": "https://localhost:8080/",
          "height": 335
        }
      },
      "source": [
        "plt.scatter(house[['grade']].values , house[['price']].values, c = 'k')\n",
        "plt.scatter(temp[['grade']].values , temp[['price']].values, c = 'y')\n",
        "plt.ticklabel_format(axis='y', style=\"plain\")\n",
        "plt.xlabel('grade')\n",
        "plt.ylabel('price')\n",
        "plt.show()\n",
        "# We can see chosen data on The background of the rest"
      ],
      "execution_count": null,
      "outputs": [
        {
          "output_type": "display_data",
          "data": {
            "image/png": "[encoded data removed]",
            "text/plain": [
              "<Figure size 360x360 with 1 Axes>"
            ]
          },
          "metadata": {
            "tags": [],
            "needs_background": "light"
          }
        }
      ]
    },
    {
      "cell_type": "code",
      "metadata": {
        "trusted": true,
        "id": "6nkzzlcJvjDv",
        "outputId": "8f50e5de-6f3b-4e66-8d8e-eb0c8993181c",
        "colab": {
          "base_uri": "https://localhost:8080/",
          "height": 224
        }
      },
      "source": [
        "result = temp['sqft_living']/temp['price']\n",
        "temp = temp.assign(result = result)\n",
        "temp.sort_values(by = ['result'],ascending=False).head()\n",
        "# We can see the best offer in condition imposed sorted by ratio sqft living to price"
      ],
      "execution_count": null,
      "outputs": [
        {
          "output_type": "execute_result",
          "data": {
            "text/html": [
              "<div>\n",
              "<style scoped>\n",
              "    .dataframe tbody tr th:only-of-type {\n",
              "        vertical-align: middle;\n",
              "    }\n",
              "\n",
              "    .dataframe tbody tr th {\n",
              "        vertical-align: top;\n",
              "    }\n",
              "\n",
              "    .dataframe thead th {\n",
              "        text-align: right;\n",
              "    }\n",
              "</style>\n",
              "<table border=\"1\" class=\"dataframe\">\n",
              "  <thead>\n",
              "    <tr style=\"text-align: right;\">\n",
              "      <th></th>\n",
              "      <th>id</th>\n",
              "      <th>date</th>\n",
              "      <th>price</th>\n",
              "      <th>bedrooms</th>\n",
              "      <th>bathrooms</th>\n",
              "      <th>sqft_living</th>\n",
              "      <th>sqft_lot</th>\n",
              "      <th>floors</th>\n",
              "      <th>waterfront</th>\n",
              "      <th>view</th>\n",
              "      <th>condition</th>\n",
              "      <th>grade</th>\n",
              "      <th>sqft_above</th>\n",
              "      <th>sqft_basement</th>\n",
              "      <th>yr_built</th>\n",
              "      <th>yr_renovated</th>\n",
              "      <th>zipcode</th>\n",
              "      <th>lat</th>\n",
              "      <th>long</th>\n",
              "      <th>sqft_living15</th>\n",
              "      <th>sqft_lot15</th>\n",
              "      <th>result</th>\n",
              "    </tr>\n",
              "  </thead>\n",
              "  <tbody>\n",
              "    <tr>\n",
              "      <th>9704</th>\n",
              "      <td>7452500565</td>\n",
              "      <td>20140829T000000</td>\n",
              "      <td>260000.0</td>\n",
              "      <td>3</td>\n",
              "      <td>2.0</td>\n",
              "      <td>2710</td>\n",
              "      <td>5000</td>\n",
              "      <td>2.0</td>\n",
              "      <td>0</td>\n",
              "      <td>0</td>\n",
              "      <td>3</td>\n",
              "      <td>6</td>\n",
              "      <td>2710</td>\n",
              "      <td>0</td>\n",
              "      <td>1951</td>\n",
              "      <td>0</td>\n",
              "      <td>98126</td>\n",
              "      <td>47.5188</td>\n",
              "      <td>-122.373</td>\n",
              "      <td>850</td>\n",
              "      <td>5000</td>\n",
              "      <td>0.010423</td>\n",
              "    </tr>\n",
              "    <tr>\n",
              "      <th>11258</th>\n",
              "      <td>7937600262</td>\n",
              "      <td>20140710T000000</td>\n",
              "      <td>379900.0</td>\n",
              "      <td>3</td>\n",
              "      <td>2.0</td>\n",
              "      <td>3110</td>\n",
              "      <td>44967</td>\n",
              "      <td>2.0</td>\n",
              "      <td>0</td>\n",
              "      <td>0</td>\n",
              "      <td>3</td>\n",
              "      <td>9</td>\n",
              "      <td>3020</td>\n",
              "      <td>90</td>\n",
              "      <td>1999</td>\n",
              "      <td>0</td>\n",
              "      <td>98058</td>\n",
              "      <td>47.4343</td>\n",
              "      <td>-122.082</td>\n",
              "      <td>2150</td>\n",
              "      <td>44967</td>\n",
              "      <td>0.008186</td>\n",
              "    </tr>\n",
              "    <tr>\n",
              "      <th>19880</th>\n",
              "      <td>3832050860</td>\n",
              "      <td>20150319T000000</td>\n",
              "      <td>210000.0</td>\n",
              "      <td>3</td>\n",
              "      <td>2.0</td>\n",
              "      <td>1580</td>\n",
              "      <td>4961</td>\n",
              "      <td>2.0</td>\n",
              "      <td>0</td>\n",
              "      <td>0</td>\n",
              "      <td>3</td>\n",
              "      <td>7</td>\n",
              "      <td>1580</td>\n",
              "      <td>0</td>\n",
              "      <td>2006</td>\n",
              "      <td>0</td>\n",
              "      <td>98042</td>\n",
              "      <td>47.3338</td>\n",
              "      <td>-122.053</td>\n",
              "      <td>2280</td>\n",
              "      <td>5000</td>\n",
              "      <td>0.007524</td>\n",
              "    </tr>\n",
              "    <tr>\n",
              "      <th>16014</th>\n",
              "      <td>5104450440</td>\n",
              "      <td>20141113T000000</td>\n",
              "      <td>252500.0</td>\n",
              "      <td>3</td>\n",
              "      <td>2.0</td>\n",
              "      <td>1810</td>\n",
              "      <td>10684</td>\n",
              "      <td>2.0</td>\n",
              "      <td>0</td>\n",
              "      <td>0</td>\n",
              "      <td>3</td>\n",
              "      <td>8</td>\n",
              "      <td>1810</td>\n",
              "      <td>0</td>\n",
              "      <td>1987</td>\n",
              "      <td>0</td>\n",
              "      <td>98058</td>\n",
              "      <td>47.4619</td>\n",
              "      <td>-122.153</td>\n",
              "      <td>2140</td>\n",
              "      <td>9657</td>\n",
              "      <td>0.007168</td>\n",
              "    </tr>\n",
              "    <tr>\n",
              "      <th>20906</th>\n",
              "      <td>3355400242</td>\n",
              "      <td>20141028T000000</td>\n",
              "      <td>274900.0</td>\n",
              "      <td>3</td>\n",
              "      <td>2.0</td>\n",
              "      <td>1936</td>\n",
              "      <td>6612</td>\n",
              "      <td>2.0</td>\n",
              "      <td>0</td>\n",
              "      <td>0</td>\n",
              "      <td>3</td>\n",
              "      <td>7</td>\n",
              "      <td>1936</td>\n",
              "      <td>0</td>\n",
              "      <td>2014</td>\n",
              "      <td>0</td>\n",
              "      <td>98001</td>\n",
              "      <td>47.2602</td>\n",
              "      <td>-122.246</td>\n",
              "      <td>1620</td>\n",
              "      <td>21600</td>\n",
              "      <td>0.007043</td>\n",
              "    </tr>\n",
              "  </tbody>\n",
              "</table>\n",
              "</div>"
            ],
            "text/plain": [
              "               id             date  ...  sqft_lot15    result\n",
              "9704   7452500565  20140829T000000  ...        5000  0.010423\n",
              "11258  7937600262  20140710T000000  ...       44967  0.008186\n",
              "19880  3832050860  20150319T000000  ...        5000  0.007524\n",
              "16014  5104450440  20141113T000000  ...        9657  0.007168\n",
              "20906  3355400242  20141028T000000  ...       21600  0.007043\n",
              "\n",
              "[5 rows x 22 columns]"
            ]
          },
          "metadata": {
            "tags": []
          },
          "execution_count": 15
        }
      ]
    }
  ]
}